{
 "cells": [
  {
   "cell_type": "code",
   "execution_count": 1,
   "id": "fdaf9d02",
   "metadata": {},
   "outputs": [
    {
     "name": "stdout",
     "output_type": "stream",
     "text": [
      "VClass\n",
      "Compact Cars                          26.582746\n",
      "Large Cars                            22.699601\n",
      "Midsize Cars                          25.054206\n",
      "Midsize Station Wagons                23.405414\n",
      "Midsize-Large Station Wagons          21.849604\n",
      "Minicompact Cars                      24.209031\n",
      "Minivan - 2WD                         21.081522\n",
      "Minivan - 4WD                         19.325102\n",
      "Small Pickup Trucks                   23.144241\n",
      "Small Pickup Trucks 2WD               22.840154\n",
      "Small Pickup Trucks 4WD               20.642371\n",
      "Small Sport Utility Vehicle 2WD       28.397498\n",
      "Small Sport Utility Vehicle 4WD       25.935095\n",
      "Small Station Wagons                  28.281518\n",
      "Special Purpose Vehicle               26.800000\n",
      "Special Purpose Vehicle 2WD           20.395952\n",
      "Special Purpose Vehicle 4WD           18.869993\n",
      "Special Purpose Vehicles              19.009830\n",
      "Special Purpose Vehicles/2wd          22.943200\n",
      "Special Purpose Vehicles/4wd          19.686850\n",
      "Sport Utility Vehicle - 2WD           21.434330\n",
      "Sport Utility Vehicle - 4WD           19.311468\n",
      "Standard Pickup Trucks                17.061237\n",
      "Standard Pickup Trucks 2WD            18.602608\n",
      "Standard Pickup Trucks 4WD            17.152270\n",
      "Standard Pickup Trucks/2wd            14.627675\n",
      "Standard Sport Utility Vehicle 2WD    20.470720\n",
      "Standard Sport Utility Vehicle 4WD    22.842778\n",
      "Subcompact Cars                       26.005349\n",
      "Two Seaters                           22.652346\n",
      "Vans                                  16.888446\n",
      "Vans Passenger                        16.148300\n",
      "Vans, Cargo Type                      15.769103\n",
      "Vans, Passenger Type                  15.051468\n",
      "Name: UCity, dtype: float64\n"
     ]
    },
    {
     "name": "stderr",
     "output_type": "stream",
     "text": [
      "/var/folders/2d/kjz0bk3s5nj4p4v10t35f8f40000gn/T/ipykernel_14512/4042880634.py:4: DtypeWarning: Columns (73,74,76) have mixed types. Specify dtype option on import or set low_memory=False.\n",
      "  df = pd.read_csv(\"/Users/nickhiltekwani/Documents/School/cs6140/vehicles.csv\")\n",
      "/var/folders/2d/kjz0bk3s5nj4p4v10t35f8f40000gn/T/ipykernel_14512/4042880634.py:7: FutureWarning: The default value of numeric_only in DataFrameGroupBy.mean is deprecated. In a future version, numeric_only will default to False. Either specify numeric_only or select only columns which should be valid for the function.\n",
      "  vehicle_class_efficiency = df.groupby(\"VClass\").mean()[\"UCity\"]\n"
     ]
    }
   ],
   "source": [
    "import pandas as pd\n",
    "\n",
    "# Read in the dataset\n",
    "df = pd.read_csv(\"/Users/nickhiltekwani/Documents/School/cs6140/vehicles.csv\")\n",
    "\n",
    "# Group the data by 'VClass' and calculate the mean UCity for each group\n",
    "vehicle_class_efficiency = df.groupby(\"VClass\").mean()[\"UCity\"]\n",
    "\n",
    "# Print the result\n",
    "print(vehicle_class_efficiency)"
   ]
  }
 ],
 "metadata": {
  "kernelspec": {
   "display_name": "Python 3 (ipykernel)",
   "language": "python",
   "name": "python3"
  },
  "language_info": {
   "codemirror_mode": {
    "name": "ipython",
    "version": 3
   },
   "file_extension": ".py",
   "mimetype": "text/x-python",
   "name": "python",
   "nbconvert_exporter": "python",
   "pygments_lexer": "ipython3",
   "version": "3.10.7"
  }
 },
 "nbformat": 4,
 "nbformat_minor": 5
}
