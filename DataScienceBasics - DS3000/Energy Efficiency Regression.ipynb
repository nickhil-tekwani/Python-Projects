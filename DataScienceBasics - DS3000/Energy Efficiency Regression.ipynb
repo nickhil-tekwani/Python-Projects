{
 "cells": [
  {
   "cell_type": "markdown",
   "metadata": {},
   "source": [
    "<center><h2> Energy Efficiency Regression </h2></center>\n",
    "<center><h4> by Nickhil Tekwani </h4></center>\n",
    "\n",
    "Intro to ML (regression) using Energy Efficiency dataset from UCI Machine Learning Repository. Use the following regressors:\n",
    "Linear Regression, Ridge, Lasso, kNN, and LinearSVR"
   ]
  },
  {
   "cell_type": "markdown",
   "metadata": {},
   "source": [
    "### Data"
   ]
  },
  {
   "cell_type": "code",
   "execution_count": 1,
   "metadata": {},
   "outputs": [
    {
     "data": {
      "text/html": [
       "<div>\n",
       "<style scoped>\n",
       "    .dataframe tbody tr th:only-of-type {\n",
       "        vertical-align: middle;\n",
       "    }\n",
       "\n",
       "    .dataframe tbody tr th {\n",
       "        vertical-align: top;\n",
       "    }\n",
       "\n",
       "    .dataframe thead th {\n",
       "        text-align: right;\n",
       "    }\n",
       "</style>\n",
       "<table border=\"1\" class=\"dataframe\">\n",
       "  <thead>\n",
       "    <tr style=\"text-align: right;\">\n",
       "      <th></th>\n",
       "      <th>X1</th>\n",
       "      <th>X2</th>\n",
       "      <th>X3</th>\n",
       "      <th>X4</th>\n",
       "      <th>X5</th>\n",
       "      <th>X6</th>\n",
       "      <th>X7</th>\n",
       "      <th>X8</th>\n",
       "      <th>target</th>\n",
       "    </tr>\n",
       "  </thead>\n",
       "  <tbody>\n",
       "    <tr>\n",
       "      <th>0</th>\n",
       "      <td>0.98</td>\n",
       "      <td>514.5</td>\n",
       "      <td>294.0</td>\n",
       "      <td>110.25</td>\n",
       "      <td>7.0</td>\n",
       "      <td>2</td>\n",
       "      <td>0.0</td>\n",
       "      <td>0</td>\n",
       "      <td>21.33</td>\n",
       "    </tr>\n",
       "    <tr>\n",
       "      <th>1</th>\n",
       "      <td>0.98</td>\n",
       "      <td>514.5</td>\n",
       "      <td>294.0</td>\n",
       "      <td>110.25</td>\n",
       "      <td>7.0</td>\n",
       "      <td>3</td>\n",
       "      <td>0.0</td>\n",
       "      <td>0</td>\n",
       "      <td>21.33</td>\n",
       "    </tr>\n",
       "    <tr>\n",
       "      <th>2</th>\n",
       "      <td>0.98</td>\n",
       "      <td>514.5</td>\n",
       "      <td>294.0</td>\n",
       "      <td>110.25</td>\n",
       "      <td>7.0</td>\n",
       "      <td>4</td>\n",
       "      <td>0.0</td>\n",
       "      <td>0</td>\n",
       "      <td>21.33</td>\n",
       "    </tr>\n",
       "    <tr>\n",
       "      <th>3</th>\n",
       "      <td>0.98</td>\n",
       "      <td>514.5</td>\n",
       "      <td>294.0</td>\n",
       "      <td>110.25</td>\n",
       "      <td>7.0</td>\n",
       "      <td>5</td>\n",
       "      <td>0.0</td>\n",
       "      <td>0</td>\n",
       "      <td>21.33</td>\n",
       "    </tr>\n",
       "    <tr>\n",
       "      <th>4</th>\n",
       "      <td>0.90</td>\n",
       "      <td>563.5</td>\n",
       "      <td>318.5</td>\n",
       "      <td>122.50</td>\n",
       "      <td>7.0</td>\n",
       "      <td>2</td>\n",
       "      <td>0.0</td>\n",
       "      <td>0</td>\n",
       "      <td>28.28</td>\n",
       "    </tr>\n",
       "  </tbody>\n",
       "</table>\n",
       "</div>"
      ],
      "text/plain": [
       "     X1     X2     X3      X4   X5  X6   X7  X8  target\n",
       "0  0.98  514.5  294.0  110.25  7.0   2  0.0   0   21.33\n",
       "1  0.98  514.5  294.0  110.25  7.0   3  0.0   0   21.33\n",
       "2  0.98  514.5  294.0  110.25  7.0   4  0.0   0   21.33\n",
       "3  0.98  514.5  294.0  110.25  7.0   5  0.0   0   21.33\n",
       "4  0.90  563.5  318.5  122.50  7.0   2  0.0   0   28.28"
      ]
     },
     "execution_count": 1,
     "metadata": {},
     "output_type": "execute_result"
    }
   ],
   "source": [
    "import pandas as pd\n",
    "\n",
    "def load_data(excel_link):\n",
    "    return pd.read_excel(excel_link)\n",
    "\n",
    "energy_df = load_data('https://archive.ics.uci.edu/ml/machine-learning-databases/00242/ENB2012_data.xlsx')\n",
    "energy_df[\"target\"] = energy_df[\"Y2\"]\n",
    "energy_df = energy_df.drop([\"Y1\", \"Y2\"], axis=1)\n",
    "\n",
    "energy_df.head()"
   ]
  },
  {
   "cell_type": "code",
   "execution_count": 2,
   "metadata": {},
   "outputs": [],
   "source": [
    "# Get features and target\n",
    "def features_and_target(df):\n",
    "    features = df.drop([\"target\"], axis=1)\n",
    "    target = df[\"target\"]\n",
    "    return (features, target)\n",
    "features, target = features_and_target(energy_df)"
   ]
  },
  {
   "cell_type": "markdown",
   "metadata": {},
   "source": [
    "### Application and Evaluation of Regression Estimators\n",
    "Linear Regression, Ridge, Lasso, kNN, and LinearSVR"
   ]
  },
  {
   "cell_type": "code",
   "execution_count": 3,
   "metadata": {},
   "outputs": [],
   "source": [
    "# split data\n",
    "from sklearn.model_selection import train_test_split\n",
    "def split_the_dataset():\n",
    "    X_train, X_test, y_train, y_test = train_test_split(features, target, random_state=3000)\n",
    "    return (X_train, X_test, y_train, y_test)\n",
    "X_train, X_test, y_train, y_test = split_the_dataset()"
   ]
  },
  {
   "cell_type": "code",
   "execution_count": 4,
   "metadata": {},
   "outputs": [],
   "source": [
    "# estimators\n",
    "from sklearn.linear_model import LinearRegression\n",
    "from sklearn.linear_model import Ridge\n",
    "from sklearn.linear_model import Lasso\n",
    "from sklearn.neighbors import KNeighborsRegressor\n",
    "from sklearn.svm import LinearSVR\n",
    "\n",
    "estimators = {\"Linear Regression\": LinearRegression(),\n",
    "              \"Ridge\": Ridge(), \n",
    "              \"Lasso\": Lasso(),\n",
    "              \"k-Nearest Neighbor\": KNeighborsRegressor(), \n",
    "              \"Support Vector Machine\": LinearSVR() \n",
    "             }"
   ]
  },
  {
   "cell_type": "code",
   "execution_count": 5,
   "metadata": {},
   "outputs": [
    {
     "name": "stdout",
     "output_type": "stream",
     "text": [
      "Linear Regression: \n",
      " \t R-squared value for training set: 0.8904498825817151\n",
      " \t R-squared value for testing set: 0.8784000590776224\n",
      "\n",
      "Ridge: \n",
      " \t R-squared value for training set: 0.8857523325352672\n",
      " \t R-squared value for testing set: 0.8696356299456395\n",
      "\n",
      "Lasso: \n",
      " \t R-squared value for training set: 0.7909719493377705\n",
      " \t R-squared value for testing set: 0.7415012433952806\n",
      "\n",
      "k-Nearest Neighbor: \n",
      " \t R-squared value for training set: 0.9729795093926208\n",
      " \t R-squared value for testing set: 0.9547529979241635\n",
      "\n",
      "Support Vector Machine: \n",
      " \t R-squared value for training set: 0.7664603158481333\n",
      " \t R-squared value for testing set: 0.7356963899946077\n",
      "\n"
     ]
    },
    {
     "name": "stderr",
     "output_type": "stream",
     "text": [
      "/Library/Frameworks/Python.framework/Versions/3.8/lib/python3.8/site-packages/sklearn/svm/_base.py:976: ConvergenceWarning: Liblinear failed to converge, increase the number of iterations.\n",
      "  warnings.warn(\"Liblinear failed to converge, increase \"\n"
     ]
    }
   ],
   "source": [
    "# fit regression estimators using percentage-split approach\n",
    "from sklearn.metrics import r2_score\n",
    "def regressors_percentage_split():\n",
    "    for name, clf in estimators.items():\n",
    "        model = clf.fit(X=X_train, y=y_train)\n",
    "        r_train = r2_score(y_train, model.predict(X_train))\n",
    "        r_test = r2_score(y_test, model.predict(X_test))\n",
    "        \n",
    "        print(name + \": \\n \\t R-squared value for training set: \" + str(r_train)\n",
    "              + \"\\n \\t R-squared value for testing set: \" + str(r_test) + \"\\n\")\n",
    "regressors_percentage_split()"
   ]
  },
  {
   "cell_type": "code",
   "execution_count": 6,
   "metadata": {},
   "outputs": [
    {
     "name": "stdout",
     "output_type": "stream",
     "text": [
      "Linear Regression: \n",
      " \t R-squared value for training set: 0.8904498825817151\n",
      " \t R-squared value for testing set: 0.8784000590776223\n",
      "\n",
      "Ridge: \n",
      " \t R-squared value for training set: 0.8880375941362452\n",
      " \t R-squared value for testing set: 0.8711496370323977\n",
      "\n",
      "Lasso: \n",
      " \t R-squared value for training set: 0.7603527845294313\n",
      " \t R-squared value for testing set: 0.7226204084888882\n",
      "\n",
      "k-Nearest Neighbor: \n",
      " \t R-squared value for training set: 0.9260441752256717\n",
      " \t R-squared value for testing set: 0.8870455496740268\n",
      "\n",
      "Support Vector Machine: \n",
      " \t R-squared value for training set: 0.876804566492899\n",
      " \t R-squared value for testing set: 0.8490341981993731\n",
      "\n"
     ]
    }
   ],
   "source": [
    "# fit estimators, but this time normalize x_train and X_test\n",
    "from sklearn.preprocessing import MinMaxScaler\n",
    "\n",
    "def preprocessed_regression():\n",
    "    scaler = MinMaxScaler()\n",
    "    scaler.fit(X_train) \n",
    "    X_train_scaled = scaler.transform(X_train) \n",
    "    X_test_scaled = scaler.transform(X_test) \n",
    "    \n",
    "    for name, clf in estimators.items():\n",
    "        model = clf.fit(X=X_train_scaled, y=y_train)\n",
    "        r_train = r2_score(y_train, model.predict(X_train_scaled))\n",
    "        r_test = r2_score(y_test, model.predict(X_test_scaled))\n",
    "        \n",
    "        print(name + \": \\n \\t R-squared value for training set: \" + str(r_train)\n",
    "              + \"\\n \\t R-squared value for testing set: \" + str(r_test) + \"\\n\")\n",
    "        \n",
    "    return (X_train_scaled, X_test_scaled)\n",
    "X_train_scaled, X_test_scaled = preprocessed_regression()"
   ]
  },
  {
   "cell_type": "code",
   "execution_count": 10,
   "metadata": {},
   "outputs": [
    {
     "name": "stdout",
     "output_type": "stream",
     "text": [
      "Selected features after RFE:\n",
      "\t X1\n",
      "\t X3\n",
      "\t X7\n",
      "kNN Regression performance with selected features:\n",
      "\tR-squared value for training set:  0.961705245742336\n",
      "\tR-squared value for testing set:  0.9497826076129472\n"
     ]
    }
   ],
   "source": [
    "# RFE for feature selection\n",
    "from sklearn.feature_selection import RFE\n",
    "from sklearn.neighbors import KNeighborsRegressor\n",
    "from sklearn.tree import DecisionTreeRegressor\n",
    "\n",
    "def RFE_feature_selection():\n",
    "    select = RFE(DecisionTreeRegressor(random_state = 3000), n_features_to_select = 3)\n",
    "    select.fit(X_train_scaled, y_train)\n",
    "    \n",
    "    X_train_selected = select.transform(X_train_scaled)\n",
    "    X_test_selected = select.transform(X_test_scaled)\n",
    "    \n",
    "    flist = list(features.columns.values)\n",
    "    supp = select.get_support()\n",
    "    \n",
    "    print(\"Selected features after RFE:\")\n",
    "    for i in range(len(supp)):\n",
    "        if supp[i] == True:\n",
    "            print(\"\\t \" + flist[i])\n",
    "    \n",
    "    model = KNeighborsRegressor().fit(X=X_train_selected, y=y_train)\n",
    "    \n",
    "    print(\"kNN Regression performance with selected features:\")\n",
    "    print(\"\\tR-squared value for training set: \", r2_score(y_train, model.predict(X_train_selected)))\n",
    "    print(\"\\tR-squared value for testing set: \", r2_score(y_test, model.predict(X_test_selected)))\n",
    "    \n",
    "    return(X_train_selected, X_test_selected)\n",
    "\n",
    "X_train_selected, X_test_selected = RFE_feature_selection()"
   ]
  },
  {
   "cell_type": "code",
   "execution_count": 11,
   "metadata": {},
   "outputs": [
    {
     "name": "stdout",
     "output_type": "stream",
     "text": [
      "Best parameters:  {'metric': 'euclidean', 'n_neighbors': 10}\n",
      "Training set score with best parameters:  0.9612669818748619\n",
      "Test set score with best parameters:  0.9636318595177941\n"
     ]
    }
   ],
   "source": [
    "# Grid search to tune kNN regression algorithim\n",
    "param_grid = {\"n_neighbors\":[1, 5, 10], \"metric\": [\"euclidean\", \"manhattan\", \"minkowski\"]}\n",
    "\n",
    "from sklearn.model_selection import GridSearchCV\n",
    "from sklearn.neighbors import KNeighborsRegressor\n",
    "\n",
    "def grid_search_kNN():\n",
    "    gs = GridSearchCV(KNeighborsRegressor(), param_grid)\n",
    "    gs.fit(X=X_train_selected, y=y_train)\n",
    "    print(\"Best parameters: \", gs.best_params_)\n",
    "    print(\"Training set score with best parameters: \", gs.best_score_)\n",
    "    print(\"Test set score with best parameters: \", gs.score(X_test_selected, y_test))\n",
    "    \n",
    "grid_search_kNN()"
   ]
  }
 ],
 "metadata": {
  "kernelspec": {
   "display_name": "Python 3",
   "language": "python",
   "name": "python3"
  },
  "language_info": {
   "codemirror_mode": {
    "name": "ipython",
    "version": 3
   },
   "file_extension": ".py",
   "mimetype": "text/x-python",
   "name": "python",
   "nbconvert_exporter": "python",
   "pygments_lexer": "ipython3",
   "version": "3.8.3"
  }
 },
 "nbformat": 4,
 "nbformat_minor": 4
}
