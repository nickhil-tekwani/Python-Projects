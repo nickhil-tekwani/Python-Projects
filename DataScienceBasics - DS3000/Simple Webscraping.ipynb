{
 "cells": [
  {
   "cell_type": "markdown",
   "metadata": {},
   "source": [
    "<center><h2> Simple Wikipedia Webscraping </h2></center>\n",
    "<center><h4> by Nickhil Tekwani </h4></center>\n",
    "\n",
    "Introduction to webscraping using Wikipedia page on Dumbledore\n",
    "\n",
    "https://en.wikipedia.org/wiki/Albus_Dumbledore\n",
    "\n",
    "Goal: Extract Full Name, Year Born, and House from infobox on page"
   ]
  },
  {
   "cell_type": "markdown",
   "metadata": {},
   "source": [
    "### Open Connection to Page"
   ]
  },
  {
   "cell_type": "code",
   "execution_count": 2,
   "metadata": {},
   "outputs": [],
   "source": [
    "import urllib.request as urllib\n",
    "html = urllib.urlopen(\"https://en.wikipedia.org/wiki/Albus_Dumbledore\")\n",
    "html_read = html.read()\n",
    "\n",
    "from bs4 import BeautifulSoup\n",
    "soup = BeautifulSoup(html_read)"
   ]
  },
  {
   "cell_type": "markdown",
   "metadata": {},
   "source": [
    "### Define Functions and Variables to get Data"
   ]
  },
  {
   "cell_type": "code",
   "execution_count": 3,
   "metadata": {},
   "outputs": [],
   "source": [
    "var = soup.body.table.find_all(\"td\")\n",
    "   \n",
    "def get_fn():\n",
    "    for cell in var:\n",
    "        name = cell.get_text()\n",
    "        if(name.startswith(\"Albus\")):\n",
    "            fn = name\n",
    "    return fn.strip()\n",
    "def get_dob():\n",
    "    for cell in var:\n",
    "        name = cell.get_text()\n",
    "        if(name.startswith(\"1881\")):\n",
    "            dob = name\n",
    "    return dob.strip()\n",
    "def get_house():\n",
    "    for cell in var:\n",
    "        name = cell.get_text()\n",
    "        if(name.startswith(\"Gryffindor\")):\n",
    "            res = name\n",
    "    return res.strip()\n",
    "\n",
    "var2 = soup.body.table.find(\"a\", {\"class\":\"image\"})['href']"
   ]
  },
  {
   "cell_type": "markdown",
   "metadata": {},
   "source": [
    "### Run Functions and Store in DF"
   ]
  },
  {
   "cell_type": "code",
   "execution_count": 4,
   "metadata": {},
   "outputs": [],
   "source": [
    "full_name = get_fn()\n",
    "born = get_dob()\n",
    "house = get_house()\n",
    "picture = var2\n",
    "\n",
    "import pandas as pd\n",
    "data = {\"FullName\": [full_name], \n",
    "        \"Born\": [born], \n",
    "        \"House\": [house],\n",
    "        \"Picture\": [picture]\n",
    "       }\n",
    "df = pd.DataFrame(data)"
   ]
  },
  {
   "cell_type": "code",
   "execution_count": 5,
   "metadata": {},
   "outputs": [
    {
     "data": {
      "text/html": [
       "<div>\n",
       "<style scoped>\n",
       "    .dataframe tbody tr th:only-of-type {\n",
       "        vertical-align: middle;\n",
       "    }\n",
       "\n",
       "    .dataframe tbody tr th {\n",
       "        vertical-align: top;\n",
       "    }\n",
       "\n",
       "    .dataframe thead th {\n",
       "        text-align: right;\n",
       "    }\n",
       "</style>\n",
       "<table border=\"1\" class=\"dataframe\">\n",
       "  <thead>\n",
       "    <tr style=\"text-align: right;\">\n",
       "      <th></th>\n",
       "      <th>FullName</th>\n",
       "      <th>Born</th>\n",
       "      <th>House</th>\n",
       "      <th>Picture</th>\n",
       "    </tr>\n",
       "  </thead>\n",
       "  <tbody>\n",
       "    <tr>\n",
       "      <th>0</th>\n",
       "      <td>Albus Percival Wulfric Brian Dumbledore</td>\n",
       "      <td>1881</td>\n",
       "      <td>Gryffindor</td>\n",
       "      <td>/wiki/File:Dumbledore_and_Elder_Wand.JPG</td>\n",
       "    </tr>\n",
       "  </tbody>\n",
       "</table>\n",
       "</div>"
      ],
      "text/plain": [
       "                                  FullName  Born       House  \\\n",
       "0  Albus Percival Wulfric Brian Dumbledore  1881  Gryffindor   \n",
       "\n",
       "                                    Picture  \n",
       "0  /wiki/File:Dumbledore_and_Elder_Wand.JPG  "
      ]
     },
     "execution_count": 5,
     "metadata": {},
     "output_type": "execute_result"
    }
   ],
   "source": [
    "df"
   ]
  }
 ],
 "metadata": {
  "kernelspec": {
   "display_name": "Python 3",
   "language": "python",
   "name": "python3"
  },
  "language_info": {
   "codemirror_mode": {
    "name": "ipython",
    "version": 3
   },
   "file_extension": ".py",
   "mimetype": "text/x-python",
   "name": "python",
   "nbconvert_exporter": "python",
   "pygments_lexer": "ipython3",
   "version": "3.8.3"
  }
 },
 "nbformat": 4,
 "nbformat_minor": 4
}
