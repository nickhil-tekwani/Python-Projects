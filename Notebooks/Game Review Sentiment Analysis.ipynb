{
 "cells": [
  {
   "cell_type": "markdown",
   "metadata": {},
   "source": [
    "<center><h2> Game Review Sentiment Analysis </h2></center>\n",
    "<center><h4> by Nickhil Tekwani </h4></center>\n",
    "\n",
    "Introduction to sentiment analysis and predicting sentiment based on comment using sample data on video game reviews.\n",
    "\n",
    "Columns:\n",
    "- gameID - id of given game <br/>\n",
    "- comment - user comment <br/>\n",
    "- sentiment - sentiment (target) <br/>\n"
   ]
  },
  {
   "cell_type": "markdown",
   "metadata": {},
   "source": [
    "## Data"
   ]
  },
  {
   "cell_type": "code",
   "execution_count": 1,
   "metadata": {},
   "outputs": [
    {
     "data": {
      "text/html": [
       "<div>\n",
       "<style scoped>\n",
       "    .dataframe tbody tr th:only-of-type {\n",
       "        vertical-align: middle;\n",
       "    }\n",
       "\n",
       "    .dataframe tbody tr th {\n",
       "        vertical-align: top;\n",
       "    }\n",
       "\n",
       "    .dataframe thead th {\n",
       "        text-align: right;\n",
       "    }\n",
       "</style>\n",
       "<table border=\"1\" class=\"dataframe\">\n",
       "  <thead>\n",
       "    <tr style=\"text-align: right;\">\n",
       "      <th></th>\n",
       "      <th>gameID</th>\n",
       "      <th>comment</th>\n",
       "      <th>sentiment</th>\n",
       "    </tr>\n",
       "  </thead>\n",
       "  <tbody>\n",
       "    <tr>\n",
       "      <th>0</th>\n",
       "      <td>345650</td>\n",
       "      <td>Is Without Withinnbspworth your time  Nonbs...</td>\n",
       "      <td>0</td>\n",
       "    </tr>\n",
       "    <tr>\n",
       "      <th>1</th>\n",
       "      <td>289090</td>\n",
       "      <td>My playtime h based on steam Grindy Achieve...</td>\n",
       "      <td>0</td>\n",
       "    </tr>\n",
       "    <tr>\n",
       "      <th>2</th>\n",
       "      <td>350090</td>\n",
       "      <td>No Pineapple Left Behind</td>\n",
       "      <td>0</td>\n",
       "    </tr>\n",
       "    <tr>\n",
       "      <th>3</th>\n",
       "      <td>409720</td>\n",
       "      <td>PRESS SPACE TO CRASH</td>\n",
       "      <td>0</td>\n",
       "    </tr>\n",
       "    <tr>\n",
       "      <th>4</th>\n",
       "      <td>364360</td>\n",
       "      <td>Reason Why Chinese Gamer Give the ShXt to W...</td>\n",
       "      <td>0</td>\n",
       "    </tr>\n",
       "    <tr>\n",
       "      <th>...</th>\n",
       "      <td>...</td>\n",
       "      <td>...</td>\n",
       "      <td>...</td>\n",
       "    </tr>\n",
       "    <tr>\n",
       "      <th>19092</th>\n",
       "      <td>311210</td>\n",
       "      <td>Zombies Multiplayer Singleplayer</td>\n",
       "      <td>0</td>\n",
       "    </tr>\n",
       "    <tr>\n",
       "      <th>19093</th>\n",
       "      <td>1250</td>\n",
       "      <td>Zombieswith English peopleNot Shaun of the Dea...</td>\n",
       "      <td>1</td>\n",
       "    </tr>\n",
       "    <tr>\n",
       "      <th>19094</th>\n",
       "      <td>500</td>\n",
       "      <td>Zombies Zombies everywhereAnd the only thing t...</td>\n",
       "      <td>1</td>\n",
       "    </tr>\n",
       "    <tr>\n",
       "      <th>19095</th>\n",
       "      <td>283680</td>\n",
       "      <td>Zone of the Enders in a straight up bullet hel...</td>\n",
       "      <td>1</td>\n",
       "    </tr>\n",
       "    <tr>\n",
       "      <th>19096</th>\n",
       "      <td>22350</td>\n",
       "      <td>thats all i can say feels like a cheap TF</td>\n",
       "      <td>0</td>\n",
       "    </tr>\n",
       "  </tbody>\n",
       "</table>\n",
       "<p>19097 rows × 3 columns</p>\n",
       "</div>"
      ],
      "text/plain": [
       "       gameID                                            comment  sentiment\n",
       "0      345650     Is Without Withinnbspworth your time  Nonbs...          0\n",
       "1      289090     My playtime h based on steam Grindy Achieve...          0\n",
       "2      350090                           No Pineapple Left Behind          0\n",
       "3      409720                               PRESS SPACE TO CRASH          0\n",
       "4      364360     Reason Why Chinese Gamer Give the ShXt to W...          0\n",
       "...       ...                                                ...        ...\n",
       "19092  311210                  Zombies Multiplayer Singleplayer           0\n",
       "19093    1250  Zombieswith English peopleNot Shaun of the Dea...          1\n",
       "19094     500  Zombies Zombies everywhereAnd the only thing t...          1\n",
       "19095  283680  Zone of the Enders in a straight up bullet hel...          1\n",
       "19096   22350          thats all i can say feels like a cheap TF          0\n",
       "\n",
       "[19097 rows x 3 columns]"
      ]
     },
     "execution_count": 1,
     "metadata": {},
     "output_type": "execute_result"
    }
   ],
   "source": [
    "import pandas as pd\n",
    "data = pd.read_csv(\"https://raw.githubusercontent.com/nickhil-tekwani/Python-Projects/master/References/game_reviews.csv\")\n",
    "data"
   ]
  },
  {
   "cell_type": "code",
   "execution_count": 2,
   "metadata": {},
   "outputs": [],
   "source": [
    "# set features and target for prediction\n",
    "features = data[\"comment\"]\n",
    "target = data[\"sentiment\"]"
   ]
  },
  {
   "cell_type": "markdown",
   "metadata": {},
   "source": [
    "## Prediction"
   ]
  },
  {
   "cell_type": "markdown",
   "metadata": {},
   "source": [
    "### Get accuracy when ngram range is 3,4"
   ]
  },
  {
   "cell_type": "code",
   "execution_count": 3,
   "metadata": {},
   "outputs": [
    {
     "name": "stdout",
     "output_type": "stream",
     "text": [
      "Classification accuracy on training set: 0.8212540148024019\n",
      "Classification accuracy on testing set: 0.7030366492146597\n",
      "Number of features used: 11411\n"
     ]
    }
   ],
   "source": [
    "from sklearn.feature_extraction.text import TfidfVectorizer\n",
    "from sklearn.naive_bayes import MultinomialNB\n",
    "from sklearn.model_selection import train_test_split\n",
    "\n",
    "X_train, X_test, y_train, y_test = train_test_split(features, target, random_state=3000)\n",
    "\n",
    "vect = TfidfVectorizer(min_df=5, ngram_range=(3,4)).fit(X_train)\n",
    "\n",
    "X_train_vectorized = vect.transform(X_train)\n",
    "X_test_vectorized = vect.transform(X_test)\n",
    "\n",
    "model = MultinomialNB(alpha = 0.5).fit(X=X_train_vectorized, y=y_train)\n",
    "\n",
    "print(\"Classification accuracy on training set:\", model.score(X_train_vectorized, y_train))\n",
    "print(\"Classification accuracy on testing set:\", model.score(X_test_vectorized, y_test))\n",
    "print(\"Number of features used:\", len(vect.get_feature_names()))"
   ]
  },
  {
   "cell_type": "code",
   "execution_count": 4,
   "metadata": {},
   "outputs": [
    {
     "data": {
      "text/plain": [
       "['able to beat',\n",
       " 'be easy to',\n",
       " 'ever played the',\n",
       " 'game with lots',\n",
       " 'in the early',\n",
       " 'just buy it',\n",
       " 'of how the game',\n",
       " 'review on this',\n",
       " 'the game in',\n",
       " 'this game when',\n",
       " 'try if you',\n",
       " 'you could have']"
      ]
     },
     "execution_count": 4,
     "metadata": {},
     "output_type": "execute_result"
    }
   ],
   "source": [
    "names = vect.get_feature_names()[::1000]\n",
    "names"
   ]
  },
  {
   "cell_type": "markdown",
   "metadata": {},
   "source": [
    "### Predict_Sentiment"
   ]
  },
  {
   "cell_type": "code",
   "execution_count": 5,
   "metadata": {},
   "outputs": [],
   "source": [
    "# function for predicting sentiment\n",
    "def predict_sentiment(comment):\n",
    "    comment_features = vect.transform(comment)\n",
    "    sentiment = model.predict(comment_features)\n",
    "    pos = \"Positive\"\n",
    "    neg = \"Negative\"\n",
    "    if sentiment == 1:\n",
    "        return pos\n",
    "    else:\n",
    "        return neg   "
   ]
  },
  {
   "cell_type": "code",
   "execution_count": 6,
   "metadata": {},
   "outputs": [
    {
     "name": "stdout",
     "output_type": "stream",
     "text": [
      "The statement 'I this this is good' is Positive\n",
      "The statement 'I think this is bad' is Negative\n"
     ]
    }
   ],
   "source": [
    "# run predict_sentiment\n",
    "posString = \"I this this is good\"\n",
    "negString = \"I think this is bad\"\n",
    "\n",
    "predictPos = predict_sentiment([posString])\n",
    "predictNeg = predict_sentiment([negString])\n",
    "\n",
    "print(\"The statement '\" + posString + \"' is \" + predictPos)\n",
    "print(\"The statement '\" + negString + \"' is \" + predictNeg)"
   ]
  },
  {
   "cell_type": "markdown",
   "metadata": {},
   "source": [
    "### Get accuracy when ngram range is 4,5"
   ]
  },
  {
   "cell_type": "code",
   "execution_count": 7,
   "metadata": {},
   "outputs": [
    {
     "name": "stdout",
     "output_type": "stream",
     "text": [
      "Classification accuracy on training set: 0.6581483033095936\n",
      "Classification accuracy on testing set: 0.5987434554973822\n",
      "Number of features used: 2410\n"
     ]
    }
   ],
   "source": [
    "from sklearn.feature_extraction.text import TfidfVectorizer\n",
    "from sklearn.naive_bayes import MultinomialNB\n",
    "from sklearn.model_selection import train_test_split\n",
    "\n",
    "X_train, X_test, y_train, y_test = train_test_split(features, target, random_state=3000)\n",
    "\n",
    "vect = TfidfVectorizer(min_df=5, ngram_range=(4, 5)).fit(X_train)\n",
    "\n",
    "X_train_vectorized = vect.transform(X_train)\n",
    "X_test_vectorized = vect.transform(X_test)\n",
    "\n",
    "model = MultinomialNB(alpha = 0.5).fit(X=X_train_vectorized, y=y_train)\n",
    "\n",
    "print(\"Classification accuracy on training set:\", model.score(X_train_vectorized, y_train))\n",
    "print(\"Classification accuracy on testing set:\", model.score(X_test_vectorized, y_test))\n",
    "print(\"Number of features used:\", len(vect.get_feature_names()))"
   ]
  },
  {
   "cell_type": "code",
   "execution_count": 8,
   "metadata": {},
   "outputs": [
    {
     "data": {
      "text/plain": [
       "['able to play it', 'like the idea of', 'to get the hang']"
      ]
     },
     "execution_count": 8,
     "metadata": {},
     "output_type": "execute_result"
    }
   ],
   "source": [
    "names2 = vect.get_feature_names()[::1000]\n",
    "names2"
   ]
  },
  {
   "cell_type": "markdown",
   "metadata": {},
   "source": [
    "### Get accuracy when ngram range is 5,6"
   ]
  },
  {
   "cell_type": "code",
   "execution_count": 9,
   "metadata": {},
   "outputs": [
    {
     "name": "stdout",
     "output_type": "stream",
     "text": [
      "Classification accuracy on training set: 0.5357491970395196\n",
      "Classification accuracy on testing set: 0.5407329842931937\n",
      "Number of features used: 413\n"
     ]
    }
   ],
   "source": [
    "from sklearn.feature_extraction.text import TfidfVectorizer\n",
    "from sklearn.naive_bayes import MultinomialNB\n",
    "from sklearn.model_selection import train_test_split\n",
    "\n",
    "X_train, X_test, y_train, y_test = train_test_split(features, target, random_state=3000)\n",
    "\n",
    "vect = TfidfVectorizer(min_df=5, ngram_range=(5, 6)).fit(X_train)\n",
    "\n",
    "X_train_vectorized = vect.transform(X_train)\n",
    "X_test_vectorized = vect.transform(X_test)\n",
    "\n",
    "model = MultinomialNB(alpha = 0.5).fit(X=X_train_vectorized, y=y_train)\n",
    "\n",
    "print(\"Classification accuracy on training set:\", model.score(X_train_vectorized, y_train))\n",
    "print(\"Classification accuracy on testing set:\", model.score(X_test_vectorized, y_test))\n",
    "print(\"Number of features used:\", len(vect.get_feature_names()))"
   ]
  },
  {
   "cell_type": "code",
   "execution_count": 10,
   "metadata": {},
   "outputs": [
    {
     "data": {
      "text/plain": [
       "['about the game is the']"
      ]
     },
     "execution_count": 10,
     "metadata": {},
     "output_type": "execute_result"
    }
   ],
   "source": [
    "names3 = vect.get_feature_names()[::1000]\n",
    "names3"
   ]
  }
 ],
 "metadata": {
  "kernelspec": {
   "display_name": "Python 3",
   "language": "python",
   "name": "python3"
  },
  "language_info": {
   "codemirror_mode": {
    "name": "ipython",
    "version": 3
   },
   "file_extension": ".py",
   "mimetype": "text/x-python",
   "name": "python",
   "nbconvert_exporter": "python",
   "pygments_lexer": "ipython3",
   "version": "3.8.3"
  }
 },
 "nbformat": 4,
 "nbformat_minor": 4
}
