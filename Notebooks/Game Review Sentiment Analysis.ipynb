{
 "cells": [
  {
   "cell_type": "markdown",
   "metadata": {},
   "source": [
    "<center><h2> Game Review Sentiment Analysis </h2></center>\n",
    "<center><h4> by Nickhil Tekwani </h4></center>\n",
    "\n",
    "Introduction to sentiment analysis and predicting sentiment based on comment using sample data on video game reviews.\n",
    "\n",
    "Columns:\n",
    "- gameID - id of given game <br/>\n",
    "- comment - user comment <br/>\n",
    "- sentiment - sentiment (target) <br/>\n"
   ]
  },
  {
   "cell_type": "markdown",
   "metadata": {},
   "source": [
    "## Data"
   ]
  },
  {
   "cell_type": "code",
   "execution_count": null,
   "metadata": {},
   "outputs": [],
   "source": [
    "import pandas as pd\n"
   ]
  }
 ],
 "metadata": {
  "kernelspec": {
   "display_name": "Python 3",
   "language": "python",
   "name": "python3"
  },
  "language_info": {
   "codemirror_mode": {
    "name": "ipython",
    "version": 3
   },
   "file_extension": ".py",
   "mimetype": "text/x-python",
   "name": "python",
   "nbconvert_exporter": "python",
   "pygments_lexer": "ipython3",
   "version": "3.8.3"
  }
 },
 "nbformat": 4,
 "nbformat_minor": 4
}
