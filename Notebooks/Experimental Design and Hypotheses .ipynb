{
 "cells": [
  {
   "cell_type": "markdown",
   "metadata": {},
   "source": [
    "<center><h2> Experimental Design and Hypotheses </h2></center>\n",
    "<center><h4> by Nickhil Tekwani </h4></center>\n",
    "\n",
    "This sample experiment is to determine which design of 3 options is most efficient for a sample application."
   ]
  },
  {
   "cell_type": "markdown",
   "metadata": {},
   "source": [
    "### Experiment Design\n",
    "\n",
    "36 Users were tested in a between-subjects design.\n",
    "\n",
    "- The first group was tested using the explicit search design and was asked to perform a search task on this design. The researcher measured the time taken to complete the task in seconds.\n",
    "\n",
    "- The second group was tested using the dynamic search design and was asked to perform the same search task on this design. The researcher measured the task completion time for this group as well.\n",
    "\n",
    "- The third group was tested using the auto-suggestion search design and was asked to perform the same search task on this design. The task completion time was measured again.\n",
    "\n",
    "Independent Variable: type of design used to accomplish the task (3 levels: explicit, dynamic, and auto-suggestion)\n",
    "\n",
    "Dependent Variable: time it takes to complete the task.\n",
    "\n",
    "Null Hypothesis: Any one of the search designs (explicit, dynamic, and auto-suggesstion) will not be faster than any of the other ones."
   ]
  },
  {
   "cell_type": "markdown",
   "metadata": {},
   "source": [
    "### Data"
   ]
  }
 ],
 "metadata": {
  "kernelspec": {
   "display_name": "Python 3",
   "language": "python",
   "name": "python3"
  },
  "language_info": {
   "codemirror_mode": {
    "name": "ipython",
    "version": 3
   },
   "file_extension": ".py",
   "mimetype": "text/x-python",
   "name": "python",
   "nbconvert_exporter": "python",
   "pygments_lexer": "ipython3",
   "version": "3.8.3"
  }
 },
 "nbformat": 4,
 "nbformat_minor": 4
}
