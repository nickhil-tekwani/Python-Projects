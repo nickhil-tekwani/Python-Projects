{
 "cells": [
  {
   "cell_type": "markdown",
   "id": "cf573283",
   "metadata": {},
   "source": [
    "### PROBLEM 4 : L1 feature selection on text\n"
   ]
  },
  {
   "cell_type": "code",
   "execution_count": 1,
   "id": "75c75e56",
   "metadata": {},
   "outputs": [
    {
     "name": "stdout",
     "output_type": "stream",
     "text": [
      "Accuracy using top 200 features from L1-regularized regression: 0.2724\n"
     ]
    }
   ],
   "source": [
    "from sklearn.datasets import fetch_20newsgroups\n",
    "from sklearn.feature_extraction.text import TfidfVectorizer\n",
    "from sklearn.linear_model import Lasso\n",
    "from sklearn.naive_bayes import MultinomialNB\n",
    "from sklearn.model_selection import train_test_split\n",
    "from sklearn.metrics import accuracy_score\n",
    "import numpy as np\n",
    "\n",
    "# Load 20NG dataset\n",
    "newsgroups = fetch_20newsgroups(subset='all')\n",
    "X, y = newsgroups.data, newsgroups.target\n",
    "\n",
    "# Split data\n",
    "X_train, X_test, y_train, y_test = train_test_split(X, y, test_size=0.2, random_state=42)\n",
    "\n",
    "# Preprocess using TF-IDF vectorization\n",
    "vectorizer = TfidfVectorizer(stop_words='english', max_df=0.5)\n",
    "X_train_vec = vectorizer.fit_transform(X_train)\n",
    "X_test_vec = vectorizer.transform(X_test)\n",
    "\n",
    "# L1-regularized regression (Lasso)\n",
    "alpha_value = 0.01  # Adjust this value as needed to obtain the desired sparsity.\n",
    "lasso = Lasso(alpha=alpha_value)\n",
    "lasso.fit(X_train_vec, y_train)\n",
    "\n",
    "# Select top 200 features based on regression coefficients\n",
    "coef_abs = np.abs(lasso.coef_)\n",
    "top_indices = coef_abs.argsort()[-200:][::-1]\n",
    "X_train_reduced = X_train_vec[:, top_indices]\n",
    "X_test_reduced = X_test_vec[:, top_indices]\n",
    "\n",
    "# Run a classification task\n",
    "clf = MultinomialNB()\n",
    "clf.fit(X_train_reduced, y_train)\n",
    "predictions = clf.predict(X_test_reduced)\n",
    "accuracy = accuracy_score(y_test, predictions)\n",
    "print(f\"Accuracy using top 200 features from L1-regularized regression: {accuracy:.4f}\")\n",
    "\n"
   ]
  }
 ],
 "metadata": {
  "kernelspec": {
   "display_name": "Python 3 (ipykernel)",
   "language": "python",
   "name": "python3"
  },
  "language_info": {
   "codemirror_mode": {
    "name": "ipython",
    "version": 3
   },
   "file_extension": ".py",
   "mimetype": "text/x-python",
   "name": "python",
   "nbconvert_exporter": "python",
   "pygments_lexer": "ipython3",
   "version": "3.10.7"
  }
 },
 "nbformat": 4,
 "nbformat_minor": 5
}
