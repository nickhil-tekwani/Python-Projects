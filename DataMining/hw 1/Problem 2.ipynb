{
 "cells": [
  {
   "cell_type": "markdown",
   "id": "030a081e",
   "metadata": {},
   "source": [
    "### Problem A"
   ]
  },
  {
   "cell_type": "code",
   "execution_count": 2,
   "id": "c87bc21c",
   "metadata": {},
   "outputs": [],
   "source": [
    "import pandas as pd\n",
    "import numpy as np\n",
    "from collections import defaultdict\n",
    "\n",
    "def process_data(file_path):\n",
    "    # read the file\n",
    "    with open(file_path, 'r') as file:\n",
    "        lines = file.readlines()\n",
    "\n",
    "    # create a dictionary to hold each item per transaction\n",
    "    itemsets = defaultdict(list)\n",
    "    all_items = set()\n",
    "\n",
    "    # loop over each line and add items to the dictionary\n",
    "    for i, line in enumerate(lines):\n",
    "        items = line.strip().split(' ')\n",
    "        all_items.update(items)\n",
    "        for item in items:\n",
    "            itemsets[i].append(item)\n",
    "\n",
    "    # create a DataFrame with zeros for all items and all transactions\n",
    "    df = pd.DataFrame(0, index=np.arange(len(itemsets)), columns=sorted(list(all_items)))\n",
    "\n",
    "    # update the DataFrame with the items in each transaction\n",
    "    for trans, items in itemsets.items():\n",
    "        df.loc[trans, items] = 1\n",
    "\n",
    "    # print ARFF file header\n",
    "    print(\"@RELATION news_items\")\n",
    "    for column in df.columns:\n",
    "        print(f\"@ATTRIBUTE item_{column} {{0, 1}}\")\n",
    "    print(\"@DATA\")\n",
    "\n",
    "    # print ARFF file data\n",
    "    for i, row in df.iterrows():\n",
    "        print(','.join(map(str, row.tolist())))\n"
   ]
  },
  {
   "cell_type": "code",
   "execution_count": null,
   "id": "a517c70e",
   "metadata": {},
   "outputs": [],
   "source": [
    "process_data(\"./kosarak.dat.txt\")"
   ]
  },
  {
   "cell_type": "markdown",
   "id": "a9cc618f",
   "metadata": {},
   "source": [
    "### Question B\n",
    "\n",
    "My Jupyter keeps crashing when I try to run this so I don't know the exact time. \n",
    "\n",
    "![Image](https://i.imgur.com/UmDrhgI.png)\n",
    "\n",
    "If it was working, I would run the following code to determine the time:"
   ]
  },
  {
   "cell_type": "code",
   "execution_count": 1,
   "id": "39a2d0ce",
   "metadata": {},
   "outputs": [
    {
     "name": "stdout",
     "output_type": "stream",
     "text": [
      "The script took 0.00014519691467285156 seconds to run.\n"
     ]
    }
   ],
   "source": [
    "import time\n",
    "\n",
    "start_time = time.time()\n",
    "\n",
    "# process_data(\"./kosarak.dat.txt\")\n",
    "\n",
    "end_time = time.time()\n",
    "\n",
    "print(f\"The script took {end_time - start_time} seconds to run.\")"
   ]
  },
  {
   "cell_type": "markdown",
   "id": "60028e95",
   "metadata": {},
   "source": [
    "### Problem C\n",
    "Same issue as problem 2, I don't have the actual file so I can't do it. If I did, here are the steps I would follow based on my research:\n",
    "\n",
    "- Download the Weka application. \n",
    "- In the Weka GUI Chooser window, click on \"Explorer\".\n",
    "- In the \"Preprocess\" tab, click on the \"Open file...\" button, and open the .arff file. \n",
    "- Then onte the summary of the data in the \"Current relation\" panel."
   ]
  },
  {
   "cell_type": "markdown",
   "id": "65c99c77",
   "metadata": {},
   "source": [
    "### Problem D\n",
    "Since I don't have the file, can't execute on this one either. But here are the steps I would have followed:\n",
    "\n",
    "- In the \"Preprocess\" tab, click on \"Open file...\" to open the ARFF file.\n",
    "- Select the FP-Growth algorithm: Go to the \"Associate\" tab, click on the \"Choose\" button, and select \"FPGrowth\" from the list.\n",
    "- Configure the algorithm: Click on the box next to the \"Choose\" button to open the configuration dialog. Here, we can set the minimum support and confidence levels. The minimum support should be set to 49500/990002 (the fraction of the total number of instances), and the minimum confidence to 0.99. Close the dialog by clicking \"OK\".\n",
    "- Run the algorithm: Click on the \"Start\" button to start the algorithm. The results will be displayed in the right-hand panel.\n",
    "\n"
   ]
  },
  {
   "cell_type": "markdown",
   "id": "f18224f6",
   "metadata": {},
   "source": [
    "### Problem E\n",
    "Same issue as above"
   ]
  }
 ],
 "metadata": {
  "kernelspec": {
   "display_name": "Python 3 (ipykernel)",
   "language": "python",
   "name": "python3"
  },
  "language_info": {
   "codemirror_mode": {
    "name": "ipython",
    "version": 3
   },
   "file_extension": ".py",
   "mimetype": "text/x-python",
   "name": "python",
   "nbconvert_exporter": "python",
   "pygments_lexer": "ipython3",
   "version": "3.10.7"
  }
 },
 "nbformat": 4,
 "nbformat_minor": 5
}
