{
  "nbformat": 4,
  "nbformat_minor": 0,
  "metadata": {
    "colab": {
      "provenance": []
    },
    "kernelspec": {
      "name": "python3",
      "display_name": "Python 3"
    },
    "language_info": {
      "name": "python"
    }
  },
  "cells": [
    {
      "cell_type": "markdown",
      "source": [
        "Nickhil Tekwani CS6220 PROBLEM 4: Knowledge Base Question Answering"
      ],
      "metadata": {
        "id": "B28DGkgjZSi4"
      }
    },
    {
      "cell_type": "code",
      "execution_count": 6,
      "metadata": {
        "colab": {
          "base_uri": "https://localhost:8080/"
        },
        "id": "6nbjl6V-ZPQx",
        "outputId": "4fde398b-5797-4f95-d4af-6d7b07b74bd2"
      },
      "outputs": [
        {
          "output_type": "stream",
          "name": "stderr",
          "text": [
            "<ipython-input-6-0a010b009157>:16: DeprecationWarning: Call to deprecated `glove2word2vec` (KeyedVectors.load_word2vec_format(.., binary=False, no_header=True) loads GLoVE text vectors.).\n",
            "  glove2word2vec(glove_input_file, word2vec_output_file)\n"
          ]
        }
      ],
      "source": [
        "## UTILS\n",
        "\n",
        "import gensim\n",
        "from nltk import word_tokenize\n",
        "import numpy as np\n",
        "from sklearn.metrics.pairwise import cosine_similarity\n",
        "from collections import defaultdict\n",
        "\n",
        "\n",
        "# FILE GIVEN INCORRECTLY BY ASSIGNMENT, have to use new one\n",
        "from gensim.scripts.glove2word2vec import glove2word2vec\n",
        "from gensim.models.keyedvectors import KeyedVectors\n",
        "\n",
        "glove_input_file = '/content/glove.6B.50d.txt'\n",
        "word2vec_output_file = 'glove.6B.50d.txt.word2vec'\n",
        "glove2word2vec(glove_input_file, word2vec_output_file)\n",
        "\n",
        "word2vec_model = KeyedVectors.load_word2vec_format(word2vec_output_file, binary=False)\n",
        "\n",
        "def get_rel_score_word2vecbase(rel, query):\n",
        "    if rel not in word2vec_model:\n",
        "        return 0.0\n",
        "    words = word_tokenize(query.lower())\n",
        "    w_embs = []\n",
        "    for w in words:\n",
        "        if w in word2vec_model:\n",
        "            w_embs.append(word2vec_model[w])\n",
        "    return np.mean(cosine_similarity(w_embs, [word2vec_model[rel]]))\n",
        "\n",
        "\n",
        "# Function to load the graph from file\n",
        "def load_graph():\n",
        "    # Preparing the graph\n",
        "    graph = defaultdict(list)\n",
        "    for line in open('/content/graph.txt'):\n",
        "        line = eval(line[:-1])\n",
        "        graph[line[0]].append([line[1], line[2]])\n",
        "    return graph\n",
        "\n",
        "\n",
        "# Function to load the queries from file\n",
        "# Preparing the queries\n",
        "def load_queries():\n",
        "    queries = []\n",
        "    for line in open('/content/annotations.txt'):\n",
        "        line = eval(line[:-1])\n",
        "        queries.append(line)\n",
        "    return queries\n"
      ]
    },
    {
      "cell_type": "code",
      "source": [
        "import gensim\n",
        "from nltk import word_tokenize\n",
        "import numpy as np\n",
        "from sklearn.metrics.pairwise import cosine_similarity\n",
        "from collections import defaultdict\n",
        "from sklearn.metrics import f1_score\n",
        "\n",
        "def find_answers(start_entity, query):\n",
        "    graph = load_graph()\n",
        "    visited = set()\n",
        "    to_visit = [start_entity]\n",
        "    answer_entities = []\n",
        "\n",
        "    while to_visit:\n",
        "        current_entity = to_visit.pop()\n",
        "        if current_entity in visited:\n",
        "            continue\n",
        "        visited.add(current_entity)\n",
        "\n",
        "        for rel, next_entity in graph.get(current_entity, []):\n",
        "            # Get score for this relation\n",
        "            rel_score = get_rel_score_word2vecbase(\"ns:\" + rel, query)\n",
        "            # A threshold can be introduced here, for simplicity, considering all for now\n",
        "            to_visit.append(next_entity)\n",
        "\n",
        "            # As per the problem, the answer is always at the end of the relevant path\n",
        "            if next_entity not in graph:  # end of the path\n",
        "                answer_entities.append(next_entity)\n",
        "\n",
        "    return answer_entities\n",
        "def set_to_binary_array(s, all_possible_answers):\n",
        "    return [1 if answer in s else 0 for answer in all_possible_answers]\n",
        "\n",
        "def evaluate():\n",
        "    queries = load_queries()\n",
        "\n",
        "    # Get all possible answers\n",
        "    all_possible_answers = set()\n",
        "    for _, _, _, _, _, answers in queries:\n",
        "        for ans in answers:\n",
        "            all_possible_answers.add(ans['AnswerArgument'])\n",
        "    all_possible_answers = list(all_possible_answers)\n",
        "\n",
        "    y_true = []\n",
        "    y_pred = []\n",
        "\n",
        "    for _, query, _, _, _, answers in queries:\n",
        "        start_entity = query\n",
        "        true_answer = set([a['AnswerArgument'] for a in answers])\n",
        "        pred_answer = set(find_answers(start_entity, query))\n",
        "\n",
        "        y_true.append(set_to_binary_array(true_answer, all_possible_answers))\n",
        "        y_pred.append(set_to_binary_array(pred_answer, all_possible_answers))\n",
        "\n",
        "    # Calculating F1 score for each query and averaging\n",
        "    f1_scores = [f1_score(yt, yp, average='micro') for yt, yp in zip(y_true, y_pred)]\n",
        "\n",
        "    return np.mean(f1_scores)\n",
        "\n",
        "\n",
        "print(evaluate())\n"
      ],
      "metadata": {
        "colab": {
          "base_uri": "https://localhost:8080/"
        },
        "id": "AEBfwncoacSD",
        "outputId": "e46b456b-8a11-4e9c-c6d7-7d16081f1962"
      },
      "execution_count": 8,
      "outputs": [
        {
          "output_type": "stream",
          "name": "stdout",
          "text": [
            "0.9746835443037973\n"
          ]
        }
      ]
    }
  ]
}